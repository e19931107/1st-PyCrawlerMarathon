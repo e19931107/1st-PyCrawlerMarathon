{
 "cells": [
  {
   "cell_type": "code",
   "execution_count": null,
   "metadata": {},
   "outputs": [],
   "source": [
    "比較一下範例檔案中的「File I/O」與「CSV Reader」讀出來的內容有什麼差異\n",
    "\n",
    "根據範例檔案的結果：\n",
    "\n",
    "1. 取出班次一的每一個時間，印出來就好\n",
    "\n",
    "2. 將班次一的每一個時間用一個變數保存\n",
    "\n",
    "3. 將所有班次和其每一個時間用一個變數保存\n",
    "\n",
    "(Hint： 2&3 要想一下用什麼的資料型態做整理比較適合)"
   ]
  },
  {
   "cell_type": "code",
   "execution_count": null,
   "metadata": {},
   "outputs": [],
   "source": [
    "import os\n",
    "import exisit\n",
    "\n",
    "if not exists(r'/Users/e19931107/Documents/GitHub/1st-PyCrawlerMarathon/Homework/data'):\n",
    "    os.makedirs(r'/Users/e19931107/Documents/GitHub/1st-PyCrawlerMarathon/Homework/data')"
   ]
  },
  {
   "cell_type": "code",
   "execution_count": null,
   "metadata": {},
   "outputs": [],
   "source": [
    "exists(r'/Users/e19931107/Documents/GitHub/1st-PyCrawlerMarathon/Homework/data')"
   ]
  },
  {
   "cell_type": "code",
   "execution_count": null,
   "metadata": {},
   "outputs": [],
   "source": [
    "import urllib.request\n",
    "\n",
    "res = \"http://opendata.hccg.gov.tw/dataset/432257df-491f-4875-8b56-dd814aee5d7b/resource/de014c8b-9b75-4152-9fc6-f0d499cefbe4/download/20150305140446074.csv\"\n",
    "urllib.request.urlretrieve(res, './example.csv')"
   ]
  },
  {
   "cell_type": "code",
   "execution_count": null,
   "metadata": {},
   "outputs": [],
   "source": [
    "import pandas as pd\n",
    "\n",
    "data = pd.read_csv('example.csv')\n",
    "print(data)\n",
    "print(\"----------------------------------------------------------------------------------\")\n",
    "column1 = data[\"班次1\"] #2. 將班次一的每一個時間用一個變數保存\n",
    "print(column1) #1. 取出班次一的每一個時間，印出來就好"
   ]
  },
  {
   "cell_type": "code",
   "execution_count": null,
   "metadata": {},
   "outputs": [],
   "source": [
    "#3. 將所有班次和其每一個時間用一個變數保存\n",
    "\n",
    "column2 = data[\"班次2\"]\n",
    "column3 = data[\"班次3\"]\n",
    "column4 = data[\"班次4\"]\n",
    "column5 = data[\"班次5\"]\n",
    "column6 = data[\"班次6\"]\n",
    "column7 = data[\"班次7\"]\n",
    "column8 = data[\"班次8\"]\n",
    "column9 = data[\"班次9\"]\n",
    "column10 = data[\"班次10\"]\n",
    "column11 = data[\"班次11\"]\n",
    "\n",
    "print(column11)"
   ]
  },
  {
   "cell_type": "code",
   "execution_count": null,
   "metadata": {},
   "outputs": [],
   "source": []
  }
 ],
 "metadata": {
  "kernelspec": {
   "display_name": "Python 3",
   "language": "python",
   "name": "python3"
  },
  "language_info": {
   "codemirror_mode": {
    "name": "ipython",
    "version": 3
   },
   "file_extension": ".py",
   "mimetype": "text/x-python",
   "name": "python",
   "nbconvert_exporter": "python",
   "pygments_lexer": "ipython3",
   "version": "3.7.3"
  }
 },
 "nbformat": 4,
 "nbformat_minor": 2
}
