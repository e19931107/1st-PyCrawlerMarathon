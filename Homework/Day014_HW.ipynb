{
 "cells": [
  {
   "cell_type": "markdown",
   "metadata": {},
   "source": [
    "# D14：實作 Day：Yahoo! 電影網頁爬蟲實作練習\n",
    "\n",
    "YAHOO電影爬蟲練習\n",
    "\n",
    "練習爬取電影放映資訊。必須逐步獲取電影的代號、放映地區、放映日期後，再送出查詢給伺服器。\n"
   ]
  },
  {
   "cell_type": "code",
   "execution_count": 1,
   "metadata": {},
   "outputs": [],
   "source": [
    "import requests\n",
    "import re\n",
    "from bs4 import BeautifulSoup"
   ]
  },
  {
   "cell_type": "code",
   "execution_count": 2,
   "metadata": {},
   "outputs": [
    {
     "name": "stdout",
     "output_type": "stream",
     "text": [
      "正在上映中總共:  共91筆，目前顯示1~10筆\n"
     ]
    }
   ],
   "source": [
    "# 先觀察一下目前上映中的電影數量\n",
    "url = 'https://movies.yahoo.com.tw/movie_intheaters.html'\n",
    "resp = requests.get(url)\n",
    "resp.encoding = 'utf-8'\n",
    "\n",
    "soup = BeautifulSoup(resp.text, 'lxml')\n",
    "html = soup.find(\"div\", attrs={'class':'release_box'})  # 尋找正在上映中的全部電影筆數，其所在的tag\n",
    "print(\"正在上映中總共: \", html.p.string)"
   ]
  },
  {
   "cell_type": "markdown",
   "metadata": {},
   "source": [
    "# 爬取所有上映中的電影資料：電影名稱、期待度、滿意度、簡介等等。"
   ]
  },
  {
   "cell_type": "code",
   "execution_count": 3,
   "metadata": {},
   "outputs": [
    {
     "name": "stdout",
     "output_type": "stream",
     "text": [
      "----------------------------------------------------------------------\n",
      "電影名稱： \n",
      "                  燃燒女子的畫像\n",
      "期待度： 84%\n"
     ]
    },
    {
     "ename": "AttributeError",
     "evalue": "'NoneType' object has no attribute 'span'",
     "output_type": "error",
     "traceback": [
      "\u001b[0;31m---------------------------------------------------------------------------\u001b[0m",
      "\u001b[0;31mAttributeError\u001b[0m                            Traceback (most recent call last)",
      "\u001b[0;32m<ipython-input-3-2eb967e980b8>\u001b[0m in \u001b[0;36m<module>\u001b[0;34m\u001b[0m\n\u001b[1;32m     26\u001b[0m         \u001b[0;31m# 滿意度\u001b[0m\u001b[0;34m\u001b[0m\u001b[0;34m\u001b[0m\u001b[0;34m\u001b[0m\u001b[0m\n\u001b[1;32m     27\u001b[0m         \u001b[0msatisfaction\u001b[0m \u001b[0;34m=\u001b[0m \u001b[0mlevel_box\u001b[0m\u001b[0;34m.\u001b[0m\u001b[0mfind\u001b[0m\u001b[0;34m(\u001b[0m\u001b[0;34m\"div\"\u001b[0m\u001b[0;34m,\u001b[0m \u001b[0mattrs\u001b[0m\u001b[0;34m=\u001b[0m\u001b[0;34m{\u001b[0m\u001b[0;34m\"class\"\u001b[0m\u001b[0;34m:\u001b[0m\u001b[0;34m\"leveltext starwithnum\"\u001b[0m\u001b[0;34m}\u001b[0m\u001b[0;34m)\u001b[0m\u001b[0;34m\u001b[0m\u001b[0;34m\u001b[0m\u001b[0m\n\u001b[0;32m---> 28\u001b[0;31m         \u001b[0mprint\u001b[0m\u001b[0;34m(\u001b[0m\u001b[0;34m\"滿意度：\"\u001b[0m\u001b[0;34m,\u001b[0m \u001b[0msatisfaction\u001b[0m\u001b[0;34m.\u001b[0m\u001b[0mspan\u001b[0m\u001b[0;34m[\u001b[0m\u001b[0;34m\"data-num\"\u001b[0m\u001b[0;34m]\u001b[0m\u001b[0;34m)\u001b[0m  \u001b[0;31m# 滿意度可以從\"data-num\"這個屬性擷取\u001b[0m\u001b[0;34m\u001b[0m\u001b[0;34m\u001b[0m\u001b[0m\n\u001b[0m\u001b[1;32m     29\u001b[0m \u001b[0;34m\u001b[0m\u001b[0m\n\u001b[1;32m     30\u001b[0m         \u001b[0;31m# 簡介\u001b[0m\u001b[0;34m\u001b[0m\u001b[0;34m\u001b[0m\u001b[0;34m\u001b[0m\u001b[0m\n",
      "\u001b[0;31mAttributeError\u001b[0m: 'NoneType' object has no attribute 'span'"
     ]
    }
   ],
   "source": [
    "# 接下來要爬取每一頁的電影介紹\n",
    "# 先點選網頁最底部的下一頁，觀察其網址變化。然後我們把頁數當作變數傳入，用迴圈爬取。\n",
    "max_page = 5\n",
    "for page_number in range(1, max_page+1, 1):\n",
    "    url = 'https://movies.yahoo.com.tw/movie_intheaters.html'\n",
    "    payload = {'page':str(page_number)}\n",
    "    resp = requests.get(url, params=payload)\n",
    "    resp.encoding = 'utf-8'\n",
    "    soup = BeautifulSoup(resp.text, 'lxml')\n",
    "\n",
    "    # 把電影介紹擷取出來\n",
    "    movie_list = soup.find(\"ul\", attrs={\"class\":\"release_list\"}).find_all(\"li\")\n",
    "    for p in movie_list:\n",
    "        print(\"----------------------------------------------------------------------\")\n",
    "        # 電影名稱\n",
    "        movie_name = p.find(\"div\", attrs={\"class\":\"release_movie_name\"})\n",
    "        print(\"電影名稱：\", movie_name.a.string)\n",
    "        \n",
    "        # 定位電影評價資訊欄位\n",
    "        level_box = movie_name.find(\"dl\", attrs={\"class\":\"levelbox\"})\n",
    "        \n",
    "        # 期待度\n",
    "        expectation = level_box.find(\"div\", attrs={\"class\":\"leveltext\"})\n",
    "        print(\"期待度：\", expectation.span.string)\n",
    "        \n",
    "        # 滿意度\n",
    "        satisfaction = level_box.find(\"div\", attrs={\"class\":\"leveltext starwithnum\"})\n",
    "        print(\"滿意度：\", satisfaction.span[\"data-num\"])  # 滿意度可以從\"data-num\"這個屬性擷取\n",
    "        \n",
    "        # 簡介\n",
    "        movie_info = p.find(\"div\", attrs={\"class\":\"release_text\"})\n",
    "        print(movie_info.span.string)"
   ]
  },
  {
   "cell_type": "code",
   "execution_count": null,
   "metadata": {},
   "outputs": [],
   "source": []
  }
 ],
 "metadata": {
  "kernelspec": {
   "display_name": "Python 3",
   "language": "python",
   "name": "python3"
  },
  "language_info": {
   "codemirror_mode": {
    "name": "ipython",
    "version": 3
   },
   "file_extension": ".py",
   "mimetype": "text/x-python",
   "name": "python",
   "nbconvert_exporter": "python",
   "pygments_lexer": "ipython3",
   "version": "3.7.3"
  }
 },
 "nbformat": 4,
 "nbformat_minor": 2
}
