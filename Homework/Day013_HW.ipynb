{
 "cells": [
  {
   "cell_type": "markdown",
   "metadata": {},
   "source": [
    "# D13 實作 Day：PTT(批踢踢)網路爬蟲實作練習\n",
    "根據範例 ，完成以下問題：\n",
    "\n",
    "① 印出最新文章的「作者」「標題」「時間」\n",
    "② 印出第一頁所有文章的「作者」「標題」「時間」\n",
    "③ 試著爬爬看其他版的文章"
   ]
  },
  {
   "cell_type": "code",
   "execution_count": 19,
   "metadata": {},
   "outputs": [
    {
     "name": "stdout",
     "output_type": "stream",
     "text": [
      "標題為: [新聞] 金童唐西奇將傷癒回歸  27日戰馬刺有望上\n",
      "作者: teramars (tomorrow never knows)\n",
      "標題為: Re: [討論] 選秀年的深度或是說大年怎麼看？\n",
      "作者: Pixis (說好不擺爛)\n",
      "標題為: [新聞] 回應卡舅事件 快艇主帥：沒空讀編造故事\n",
      "作者: currykukuo (陳菊濕汗)\n",
      "標題為: (本文已被刪除) [melman87]\n",
      "標題為: [新聞] 葛拉罕爆發獲勁敵肯定 經紀人歸功華克、\n",
      "作者: phoenix286 (糰子大家族)\n",
      "標題為: [討論] 一神帶四坑的球星會有什麼想法嗎?\n",
      "作者: currykukuo (陳菊濕汗)\n",
      "標題為: [新聞] 投籃命中率7成52！魔獸寫下16年生涯新紀\n",
      "作者: joqomo (樓上的王子)\n",
      "標題為: [公告] 板規v6.7\n",
      "標題為: [公告] 樂透取消及未來不再開啟樂透\n",
      "作者: Vedan (味丹)\n",
      "標題為: [公告] 版主上任相關事項 \n",
      "作者: qazwsx879345 (Rajon Rondo)\n",
      "標題為: [情報] SEASON Schedule 賽程 December 19–20\n",
      "作者: JerroLi (銀色小刀)\n",
      "時間為: 12/25\n",
      "時間為: 12/25\n",
      "時間為: 12/25\n",
      "時間為: 12/25\n",
      "時間為: 12/25\n",
      "時間為: 12/25\n",
      "時間為: 12/25\n",
      "時間為:  5/24\n",
      "時間為:  6/24\n",
      "時間為: 10/25\n",
      "時間為: 11/29\n"
     ]
    }
   ],
   "source": [
    "import requests\n",
    "from bs4 import BeautifulSoup\n",
    "\n",
    "url = 'https://www.ptt.cc/bbs/NBA/index.html'\n",
    "r = requests.get(url)\n",
    "\n",
    "soup = BeautifulSoup(r.text, \"html5lib\")\n",
    "\n",
    "for d in soup.find_all(class_=\"title\"):\n",
    "    print('標題為:',d.text.replace('\\t', '').replace('\\n', ''))\n",
    "    try:\n",
    "        r = BeautifulSoup(requests.get('https://www.ptt.cc'+d.find('a')['href']).text, \"html5lib\")\n",
    "        print('作者: ' + r.find(class_='article-meta-value').text)\n",
    "    except:\n",
    "        continue\n",
    "\n",
    "for d in soup.find_all(class_=\"date\"):\n",
    "    print('時間為:',d.text.replace('\\t', '').replace('\\n', ''))"
   ]
  },
  {
   "cell_type": "code",
   "execution_count": 20,
   "metadata": {},
   "outputs": [
    {
     "name": "stdout",
     "output_type": "stream",
     "text": [
      "標題為: [賣/桃園/皆可] Ducky One 2 海灘假期 青軸\n",
      "作者: petertwo1224 (petertwo1224)\n",
      "標題為: [賣/全國/皆可]EVGA RTX 2060 XC Gaming6G 短板\n",
      "作者: yahoostar (keep going)\n",
      "標題為: [賣/全國/郵寄]PLEXTOR M6S 128GB SSD \n",
      "作者: AndyLee0565 (ANDY)\n",
      "標題為: [賣/桃園/皆可] 微軟精準滑鼠\n",
      "作者: mark80219 (Mark)\n",
      "標題為: [賣/北高/皆可] HDD、2.5&3.5轉盒、硬碟外接盒\n",
      "作者: sumaher75120 (阿修)\n",
      "標題為: [公告] 二手板板規 (2019/3/1) / 處分公告\n",
      "作者: ks031239 (月明月隱)\n",
      "標題為: [公告] \"禁止發文者刪減或清空文章\"釋義\n",
      "作者: taiwanbeers (KS)\n",
      "標題為: [公告] 估價文從嚴審核\n",
      "作者: ks031239 (月明月隱)\n",
      "標題為: [公告] 檢舉中心 匯款前有疑慮請撥165防詐騙電話\n",
      "作者: ks031239 (月明月隱)\n",
      "標題為: Fw: [公告] 請使用安全的連線方式連線本站\n",
      "作者: ks031239 (月明月隱)\n",
      "時間為: 12/25\n",
      "時間為: 12/25\n",
      "時間為: 12/25\n",
      "時間為: 12/25\n",
      "時間為: 12/25\n",
      "時間為: 11/01\n",
      "時間為:  4/04\n",
      "時間為:  1/26\n",
      "時間為: 11/01\n",
      "時間為: 11/24\n"
     ]
    }
   ],
   "source": [
    "#爬電腦二手零件版\n",
    "import requests\n",
    "from bs4 import BeautifulSoup\n",
    "\n",
    "url = 'https://www.ptt.cc/bbs/HardwareSale/index.html'\n",
    "r = requests.get(url)\n",
    "\n",
    "soup = BeautifulSoup(r.text, \"html5lib\")\n",
    "\n",
    "for d in soup.find_all(class_=\"title\"):\n",
    "    print('標題為:',d.text.replace('\\t', '').replace('\\n', ''))\n",
    "    try:\n",
    "        r = BeautifulSoup(requests.get('https://www.ptt.cc'+d.find('a')['href']).text, \"html5lib\")\n",
    "        print('作者: ' + r.find(class_='article-meta-value').text)\n",
    "    except:\n",
    "        continue\n",
    "\n",
    "for d in soup.find_all(class_=\"date\"):\n",
    "    print('時間為:',d.text.replace('\\t', '').replace('\\n', ''))"
   ]
  },
  {
   "cell_type": "code",
   "execution_count": null,
   "metadata": {},
   "outputs": [],
   "source": []
  }
 ],
 "metadata": {
  "kernelspec": {
   "display_name": "Python 3",
   "language": "python",
   "name": "python3"
  },
  "language_info": {
   "codemirror_mode": {
    "name": "ipython",
    "version": 3
   },
   "file_extension": ".py",
   "mimetype": "text/x-python",
   "name": "python",
   "nbconvert_exporter": "python",
   "pygments_lexer": "ipython3",
   "version": "3.7.3"
  }
 },
 "nbformat": 4,
 "nbformat_minor": 2
}
