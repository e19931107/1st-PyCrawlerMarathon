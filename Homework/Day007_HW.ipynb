{
 "cells": [
  {
   "cell_type": "code",
   "execution_count": null,
   "metadata": {},
   "outputs": [],
   "source": [
    "1. （簡答題）請問目前提到的這種基於 HTTP 一來一回的網頁傳輸方式，有哪些缺點及問題？\n",
    "\n",
    "HTTP協議當中包含Get和Post等兩種方式傳輸資料。\n",
    "\n",
    "Get缺點如下：\n",
    "1、Get是不安全的，因為在傳輸過程，資料被放在請求的URL中，而如今現有的很多伺服器、代理伺服器或者使用者代理都會將請求URL記錄到日誌檔案中，然後放在某個地方，這樣就可能會有一些隱私的資訊被第三方看到。另外，使用者也可以在瀏覽器上直接看到提交的資料，一些系統內部訊息將會一同顯示在使用者面前。Post的所有操作對使用者來說都是不可見的。\n",
    "2、Get傳輸的資料量小，這主要是因為受URL長度限制；而Post可以傳輸大量的資料，所以在上傳檔案只能使用Post（當然還有一個原因，將在後面的提到）。\n",
    "3、Get限制Form表單的資料集的值必須為ASCII字元；而Post支援整個ISO10646字符集。\n",
    "\n",
    "Get特性：\n",
    "GET requests can be cached\n",
    "GET requests remain in the browser history\n",
    "GET requests can be bookmarked\n",
    "GET requests should never be used when dealing with sensitive data\n",
    "GET requests have length restrictions\n",
    "GET requests are only used to request data (not modify)\n",
    "\n",
    "Post缺點如下：\n",
    "1、Post並不會將資料快取起來，但是get會。\n",
    "2、Post速度較慢。\n",
    "3、post不能進行管道化傳輸。\n",
    "\n",
    "Post特性：\n",
    "POST requests are never cached\n",
    "POST requests do not remain in the browser history\n",
    "POST requests cannot be bookmarked\n",
    "POST requests have no restrictions on data length"
   ]
  },
  {
   "cell_type": "code",
   "execution_count": null,
   "metadata": {},
   "outputs": [],
   "source": [
    "2. （簡答題）第 16 頁所使用的 JavaScipt 程式語言，跟我們一般使用的 Python 在執行上有什麼不同。\n",
    "\n",
    "1.執行緒模型:\n",
    "在Javascript的世界中是沒有多執行緒的概念的，併發使用過使用事件驅動的方式來進行的， 所有的JavaScript程式都執行在一個執行緒中。在HTML5中引入web worker可以併發的處理任務，但沒有改變Javascript單執行緒的限制。\n",
    "\n",
    "Python通過thread包支援多執行緒。\n",
    "\n",
    "2.不可改變型別 （immutable type）:\n",
    "在Python中，有的資料型別是不可改變的，也就意味著這種型別的資料不能被修改，所有的修改都會返回新的物件。而在Javascript中所有的資料型別都是可以改變的。"
   ]
  }
 ],
 "metadata": {
  "kernelspec": {
   "display_name": "Python 3",
   "language": "python",
   "name": "python3"
  },
  "language_info": {
   "codemirror_mode": {
    "name": "ipython",
    "version": 3
   },
   "file_extension": ".py",
   "mimetype": "text/x-python",
   "name": "python",
   "nbconvert_exporter": "python",
   "pygments_lexer": "ipython3",
   "version": "3.7.3"
  }
 },
 "nbformat": 4,
 "nbformat_minor": 2
}
